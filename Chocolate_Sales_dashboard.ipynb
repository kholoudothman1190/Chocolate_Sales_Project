{
 "cells": [
  {
   "cell_type": "code",
   "execution_count": 1,
   "metadata": {
    "colab": {
     "base_uri": "https://localhost:8080/"
    },
    "id": "AuEA0PmroMuY",
    "outputId": "d8dfedca-9090-48eb-ee18-f730cea96ba9"
   },
   "outputs": [
    {
     "name": "stdout",
     "output_type": "stream",
     "text": [
      "Requirement already satisfied: streamlit in c:\\users\\smsm\\anaconda3\\lib\\site-packages (1.23.1)\n",
      "Requirement already satisfied: altair<6,>=4.0 in c:\\users\\smsm\\anaconda3\\lib\\site-packages (from streamlit) (5.0.1)\n",
      "Requirement already satisfied: rich<14,>=10.11.0 in c:\\users\\smsm\\anaconda3\\lib\\site-packages (from streamlit) (13.8.1)\n",
      "Requirement already satisfied: typing-extensions<5,>=4.0.1 in c:\\users\\smsm\\anaconda3\\lib\\site-packages (from streamlit) (4.7.1)\n",
      "Requirement already satisfied: python-dateutil<3,>=2 in c:\\users\\smsm\\anaconda3\\lib\\site-packages (from streamlit) (2.8.1)\n",
      "Requirement already satisfied: packaging<24,>=14.1 in c:\\users\\smsm\\anaconda3\\lib\\site-packages (from streamlit) (20.1)\n",
      "Requirement already satisfied: tzlocal<5,>=1.1 in c:\\users\\smsm\\anaconda3\\lib\\site-packages (from streamlit) (4.3.1)\n",
      "Requirement already satisfied: blinker<2,>=1.0.0 in c:\\users\\smsm\\anaconda3\\lib\\site-packages (from streamlit) (1.6.3)\n",
      "Requirement already satisfied: pyarrow>=4.0 in c:\\users\\smsm\\anaconda3\\lib\\site-packages (from streamlit) (12.0.1)\n",
      "Requirement already satisfied: watchdog; platform_system != \"Darwin\" in c:\\users\\smsm\\anaconda3\\lib\\site-packages (from streamlit) (0.10.2)\n",
      "Requirement already satisfied: gitpython!=3.1.19,<4,>=3 in c:\\users\\smsm\\anaconda3\\lib\\site-packages (from streamlit) (3.1.44)\n",
      "Requirement already satisfied: toml<2 in c:\\users\\smsm\\anaconda3\\lib\\site-packages (from streamlit) (0.10.2)\n",
      "Requirement already satisfied: pillow<10,>=6.2.0 in c:\\users\\smsm\\anaconda3\\lib\\site-packages (from streamlit) (7.0.0)\n",
      "Requirement already satisfied: importlib-metadata<7,>=1.4 in c:\\users\\smsm\\anaconda3\\lib\\site-packages (from streamlit) (1.5.0)\n",
      "Requirement already satisfied: pydeck<1,>=0.1.dev5 in c:\\users\\smsm\\anaconda3\\lib\\site-packages (from streamlit) (0.8.1b1)\n",
      "Requirement already satisfied: cachetools<6,>=4.0 in c:\\users\\smsm\\anaconda3\\lib\\site-packages (from streamlit) (5.5.2)\n",
      "Requirement already satisfied: pandas<3,>=0.25 in c:\\users\\smsm\\anaconda3\\lib\\site-packages (from streamlit) (1.0.1)\n",
      "Requirement already satisfied: tornado<7,>=6.0.3 in c:\\users\\smsm\\anaconda3\\lib\\site-packages (from streamlit) (6.0.3)\n",
      "Requirement already satisfied: validators<1,>=0.2 in c:\\users\\smsm\\anaconda3\\lib\\site-packages (from streamlit) (0.20.0)\n",
      "Requirement already satisfied: click<9,>=7.0 in c:\\users\\smsm\\anaconda3\\lib\\site-packages (from streamlit) (7.0)\n",
      "Requirement already satisfied: numpy<2,>=1 in c:\\users\\smsm\\anaconda3\\lib\\site-packages (from streamlit) (1.18.1)\n",
      "Requirement already satisfied: pympler<2,>=0.9 in c:\\users\\smsm\\anaconda3\\lib\\site-packages (from streamlit) (1.1)\n",
      "Requirement already satisfied: tenacity<9,>=8.0.0 in c:\\users\\smsm\\anaconda3\\lib\\site-packages (from streamlit) (8.2.3)\n",
      "Requirement already satisfied: requests<3,>=2.4 in c:\\users\\smsm\\anaconda3\\lib\\site-packages (from streamlit) (2.22.0)\n",
      "Requirement already satisfied: protobuf<5,>=3.20 in c:\\users\\smsm\\anaconda3\\lib\\site-packages (from streamlit) (4.24.4)\n",
      "Requirement already satisfied: jinja2 in c:\\users\\smsm\\anaconda3\\lib\\site-packages (from altair<6,>=4.0->streamlit) (2.11.1)\n",
      "Requirement already satisfied: toolz in c:\\users\\smsm\\anaconda3\\lib\\site-packages (from altair<6,>=4.0->streamlit) (0.10.0)\n",
      "Requirement already satisfied: jsonschema>=3.0 in c:\\users\\smsm\\anaconda3\\lib\\site-packages (from altair<6,>=4.0->streamlit) (3.2.0)\n",
      "Requirement already satisfied: pygments<3.0.0,>=2.13.0 in c:\\users\\smsm\\anaconda3\\lib\\site-packages (from rich<14,>=10.11.0->streamlit) (2.17.2)\n",
      "Requirement already satisfied: markdown-it-py>=2.2.0 in c:\\users\\smsm\\anaconda3\\lib\\site-packages (from rich<14,>=10.11.0->streamlit) (2.2.0)\n",
      "Requirement already satisfied: six>=1.5 in c:\\users\\smsm\\anaconda3\\lib\\site-packages (from python-dateutil<3,>=2->streamlit) (1.14.0)\n",
      "Requirement already satisfied: pyparsing>=2.0.2 in c:\\users\\smsm\\anaconda3\\lib\\site-packages (from packaging<24,>=14.1->streamlit) (2.4.6)\n",
      "Requirement already satisfied: tzdata; platform_system == \"Windows\" in c:\\users\\smsm\\anaconda3\\lib\\site-packages (from tzlocal<5,>=1.1->streamlit) (2025.1)\n",
      "Requirement already satisfied: pytz-deprecation-shim in c:\\users\\smsm\\anaconda3\\lib\\site-packages (from tzlocal<5,>=1.1->streamlit) (0.1.0.post0)\n",
      "Requirement already satisfied: backports.zoneinfo; python_version < \"3.9\" in c:\\users\\smsm\\anaconda3\\lib\\site-packages (from tzlocal<5,>=1.1->streamlit) (0.2.1)\n",
      "Requirement already satisfied: pathtools>=0.1.1 in c:\\users\\smsm\\anaconda3\\lib\\site-packages (from watchdog; platform_system != \"Darwin\"->streamlit) (0.1.2)\n",
      "Requirement already satisfied: gitdb<5,>=4.0.1 in c:\\users\\smsm\\anaconda3\\lib\\site-packages (from gitpython!=3.1.19,<4,>=3->streamlit) (4.0.12)\n",
      "Requirement already satisfied: zipp>=0.5 in c:\\users\\smsm\\anaconda3\\lib\\site-packages (from importlib-metadata<7,>=1.4->streamlit) (2.2.0)\n",
      "Requirement already satisfied: pytz>=2017.2 in c:\\users\\smsm\\anaconda3\\lib\\site-packages (from pandas<3,>=0.25->streamlit) (2019.3)\n",
      "Requirement already satisfied: decorator>=3.4.0 in c:\\users\\smsm\\anaconda3\\lib\\site-packages (from validators<1,>=0.2->streamlit) (4.4.1)\n",
      "Requirement already satisfied: pywin32>=226; platform_system == \"Windows\" in c:\\users\\smsm\\anaconda3\\lib\\site-packages (from pympler<2,>=0.9->streamlit) (227)\n",
      "Requirement already satisfied: idna<2.9,>=2.5 in c:\\users\\smsm\\anaconda3\\lib\\site-packages (from requests<3,>=2.4->streamlit) (2.8)\n",
      "Requirement already satisfied: chardet<3.1.0,>=3.0.2 in c:\\users\\smsm\\anaconda3\\lib\\site-packages (from requests<3,>=2.4->streamlit) (3.0.4)\n",
      "Requirement already satisfied: urllib3!=1.25.0,!=1.25.1,<1.26,>=1.21.1 in c:\\users\\smsm\\anaconda3\\lib\\site-packages (from requests<3,>=2.4->streamlit) (1.25.8)\n",
      "Requirement already satisfied: certifi>=2017.4.17 in c:\\users\\smsm\\anaconda3\\lib\\site-packages (from requests<3,>=2.4->streamlit) (2019.11.28)\n",
      "Requirement already satisfied: MarkupSafe>=0.23 in c:\\users\\smsm\\anaconda3\\lib\\site-packages (from jinja2->altair<6,>=4.0->streamlit) (1.1.1)\n",
      "Requirement already satisfied: pyrsistent>=0.14.0 in c:\\users\\smsm\\anaconda3\\lib\\site-packages (from jsonschema>=3.0->altair<6,>=4.0->streamlit) (0.15.7)\n",
      "Requirement already satisfied: attrs>=17.4.0 in c:\\users\\smsm\\anaconda3\\lib\\site-packages (from jsonschema>=3.0->altair<6,>=4.0->streamlit) (19.3.0)\n",
      "Requirement already satisfied: setuptools in c:\\users\\smsm\\anaconda3\\lib\\site-packages (from jsonschema>=3.0->altair<6,>=4.0->streamlit) (45.2.0.post20200210)\n",
      "Requirement already satisfied: mdurl~=0.1 in c:\\users\\smsm\\anaconda3\\lib\\site-packages (from markdown-it-py>=2.2.0->rich<14,>=10.11.0->streamlit) (0.1.2)\n",
      "Requirement already satisfied: smmap<6,>=3.0.1 in c:\\users\\smsm\\anaconda3\\lib\\site-packages (from gitdb<5,>=4.0.1->gitpython!=3.1.19,<4,>=3->streamlit) (5.0.2)\n"
     ]
    }
   ],
   "source": [
    "!pip install streamlit"
   ]
  },
  {
   "cell_type": "code",
   "execution_count": 2,
   "metadata": {},
   "outputs": [
    {
     "name": "stdout",
     "output_type": "stream",
     "text": [
      "Collecting plotly.express\n",
      "  Using cached plotly_express-0.4.1-py2.py3-none-any.whl (2.9 kB)\n",
      "Requirement already satisfied: pandas>=0.20.0 in c:\\users\\smsm\\anaconda3\\lib\\site-packages (from plotly.express) (1.0.1)\n",
      "Requirement already satisfied: plotly>=4.1.0 in c:\\users\\smsm\\anaconda3\\lib\\site-packages (from plotly.express) (5.18.0)\n",
      "Requirement already satisfied: numpy>=1.11 in c:\\users\\smsm\\anaconda3\\lib\\site-packages (from plotly.express) (1.18.1)\n",
      "Requirement already satisfied: statsmodels>=0.9.0 in c:\\users\\smsm\\anaconda3\\lib\\site-packages (from plotly.express) (0.11.0)\n",
      "Requirement already satisfied: patsy>=0.5 in c:\\users\\smsm\\anaconda3\\lib\\site-packages (from plotly.express) (0.5.1)\n",
      "Requirement already satisfied: scipy>=0.18 in c:\\users\\smsm\\anaconda3\\lib\\site-packages (from plotly.express) (1.4.1)\n",
      "Requirement already satisfied: pytz>=2017.2 in c:\\users\\smsm\\anaconda3\\lib\\site-packages (from pandas>=0.20.0->plotly.express) (2019.3)\n",
      "Requirement already satisfied: python-dateutil>=2.6.1 in c:\\users\\smsm\\anaconda3\\lib\\site-packages (from pandas>=0.20.0->plotly.express) (2.8.1)\n",
      "Requirement already satisfied: tenacity>=6.2.0 in c:\\users\\smsm\\anaconda3\\lib\\site-packages (from plotly>=4.1.0->plotly.express) (8.2.3)\n",
      "Requirement already satisfied: packaging in c:\\users\\smsm\\anaconda3\\lib\\site-packages (from plotly>=4.1.0->plotly.express) (20.1)\n",
      "Requirement already satisfied: six in c:\\users\\smsm\\anaconda3\\lib\\site-packages (from patsy>=0.5->plotly.express) (1.14.0)\n",
      "Requirement already satisfied: pyparsing>=2.0.2 in c:\\users\\smsm\\anaconda3\\lib\\site-packages (from packaging->plotly>=4.1.0->plotly.express) (2.4.6)\n",
      "Installing collected packages: plotly.express\n",
      "Successfully installed plotly.express\n"
     ]
    }
   ],
   "source": [
    "!pip install plotly.express"
   ]
  },
  {
   "cell_type": "code",
   "execution_count": 3,
   "metadata": {},
   "outputs": [
    {
     "name": "stdout",
     "output_type": "stream",
     "text": [
      "Requirement already satisfied: pandas in c:\\users\\smsm\\anaconda3\\lib\\site-packages (1.0.1)\n",
      "Requirement already satisfied: python-dateutil>=2.6.1 in c:\\users\\smsm\\anaconda3\\lib\\site-packages (from pandas) (2.8.1)\n",
      "Requirement already satisfied: pytz>=2017.2 in c:\\users\\smsm\\anaconda3\\lib\\site-packages (from pandas) (2019.3)\n",
      "Requirement already satisfied: numpy>=1.13.3 in c:\\users\\smsm\\anaconda3\\lib\\site-packages (from pandas) (1.18.1)\n",
      "Requirement already satisfied: six>=1.5 in c:\\users\\smsm\\anaconda3\\lib\\site-packages (from python-dateutil>=2.6.1->pandas) (1.14.0)\n"
     ]
    }
   ],
   "source": [
    "!pip install pandas"
   ]
  },
  {
   "cell_type": "code",
   "execution_count": null,
   "metadata": {},
   "outputs": [],
   "source": [
    "! streamlit hello"
   ]
  },
  {
   "cell_type": "code",
   "execution_count": 1,
   "metadata": {
    "id": "8EfvPRqWnv8N"
   },
   "outputs": [],
   "source": [
    "import pandas as pd"
   ]
  },
  {
   "cell_type": "code",
   "execution_count": 3,
   "metadata": {
    "colab": {
     "base_uri": "https://localhost:8080/",
     "height": 112
    },
    "id": "inDpY3BeoWg8",
    "outputId": "8b2d7dcc-e70f-493d-adb0-6763a988bb0f"
   },
   "outputs": [
    {
     "data": {
      "text/html": [
       "<div>\n",
       "<style scoped>\n",
       "    .dataframe tbody tr th:only-of-type {\n",
       "        vertical-align: middle;\n",
       "    }\n",
       "\n",
       "    .dataframe tbody tr th {\n",
       "        vertical-align: top;\n",
       "    }\n",
       "\n",
       "    .dataframe thead th {\n",
       "        text-align: right;\n",
       "    }\n",
       "</style>\n",
       "<table border=\"1\" class=\"dataframe\">\n",
       "  <thead>\n",
       "    <tr style=\"text-align: right;\">\n",
       "      <th></th>\n",
       "      <th>Sales Person</th>\n",
       "      <th>Country</th>\n",
       "      <th>Product</th>\n",
       "      <th>Date</th>\n",
       "      <th>Amount</th>\n",
       "      <th>Boxes Shipped</th>\n",
       "    </tr>\n",
       "  </thead>\n",
       "  <tbody>\n",
       "    <tr>\n",
       "      <th>0</th>\n",
       "      <td>Jehu Rudeforth</td>\n",
       "      <td>UK</td>\n",
       "      <td>Mint Chip Choco</td>\n",
       "      <td>04-Jan-22</td>\n",
       "      <td>$5,320</td>\n",
       "      <td>180</td>\n",
       "    </tr>\n",
       "    <tr>\n",
       "      <th>1</th>\n",
       "      <td>Van Tuxwell</td>\n",
       "      <td>India</td>\n",
       "      <td>85% Dark Bars</td>\n",
       "      <td>01-Aug-22</td>\n",
       "      <td>$7,896</td>\n",
       "      <td>94</td>\n",
       "    </tr>\n",
       "  </tbody>\n",
       "</table>\n",
       "</div>"
      ],
      "text/plain": [
       "     Sales Person Country          Product       Date   Amount  Boxes Shipped\n",
       "0  Jehu Rudeforth      UK  Mint Chip Choco  04-Jan-22  $5,320             180\n",
       "1     Van Tuxwell   India    85% Dark Bars  01-Aug-22  $7,896              94"
      ]
     },
     "execution_count": 3,
     "metadata": {},
     "output_type": "execute_result"
    }
   ],
   "source": [
    "Chocolate = pd.read_csv('Chocolate Sales.csv')\n",
    "Chocolate.head(2)"
   ]
  },
  {
   "cell_type": "markdown",
   "metadata": {
    "id": "GzKLpTeuten7"
   },
   "source": [
    "## data cleaning"
   ]
  },
  {
   "cell_type": "code",
   "execution_count": 4,
   "metadata": {
    "colab": {
     "base_uri": "https://localhost:8080/"
    },
    "id": "pgMSkdGVq1nd",
    "outputId": "b67fa4fc-f135-480f-8fec-bc9645792df2"
   },
   "outputs": [
    {
     "name": "stdout",
     "output_type": "stream",
     "text": [
      "<class 'pandas.core.frame.DataFrame'>\n",
      "RangeIndex: 1094 entries, 0 to 1093\n",
      "Data columns (total 6 columns):\n",
      " #   Column         Non-Null Count  Dtype \n",
      "---  ------         --------------  ----- \n",
      " 0   Sales Person   1094 non-null   object\n",
      " 1   Country        1094 non-null   object\n",
      " 2   Product        1094 non-null   object\n",
      " 3   Date           1094 non-null   object\n",
      " 4   Amount         1094 non-null   object\n",
      " 5   Boxes Shipped  1094 non-null   int64 \n",
      "dtypes: int64(1), object(5)\n",
      "memory usage: 51.4+ KB\n"
     ]
    }
   ],
   "source": [
    "Chocolate.info()"
   ]
  },
  {
   "cell_type": "code",
   "execution_count": 5,
   "metadata": {
    "colab": {
     "base_uri": "https://localhost:8080/"
    },
    "id": "mMMqCGPrrAmY",
    "outputId": "45f7d6da-7ad9-455a-8dbc-4c81a10c4f51"
   },
   "outputs": [
    {
     "data": {
      "text/plain": [
       "0"
      ]
     },
     "execution_count": 5,
     "metadata": {},
     "output_type": "execute_result"
    }
   ],
   "source": [
    "Chocolate.duplicated().sum()"
   ]
  },
  {
   "cell_type": "code",
   "execution_count": 6,
   "metadata": {
    "colab": {
     "base_uri": "https://localhost:8080/",
     "height": 272
    },
    "id": "J3TADHsWrLo3",
    "outputId": "c5dfd2b6-0bf8-4c49-941c-d3b78b0fdc32"
   },
   "outputs": [
    {
     "data": {
      "text/plain": [
       "Sales Person     0\n",
       "Country          0\n",
       "Product          0\n",
       "Date             0\n",
       "Amount           0\n",
       "Boxes Shipped    0\n",
       "dtype: int64"
      ]
     },
     "execution_count": 6,
     "metadata": {},
     "output_type": "execute_result"
    }
   ],
   "source": [
    "Chocolate.isnull().sum()"
   ]
  },
  {
   "cell_type": "code",
   "execution_count": 7,
   "metadata": {
    "colab": {
     "base_uri": "https://localhost:8080/",
     "height": 112
    },
    "id": "gGKkK-P2rRLF",
    "outputId": "e6acb5a6-6766-4311-b5b9-ee099e3a17d1"
   },
   "outputs": [
    {
     "data": {
      "text/html": [
       "<div>\n",
       "<style scoped>\n",
       "    .dataframe tbody tr th:only-of-type {\n",
       "        vertical-align: middle;\n",
       "    }\n",
       "\n",
       "    .dataframe tbody tr th {\n",
       "        vertical-align: top;\n",
       "    }\n",
       "\n",
       "    .dataframe thead th {\n",
       "        text-align: right;\n",
       "    }\n",
       "</style>\n",
       "<table border=\"1\" class=\"dataframe\">\n",
       "  <thead>\n",
       "    <tr style=\"text-align: right;\">\n",
       "      <th></th>\n",
       "      <th>sales_person</th>\n",
       "      <th>country</th>\n",
       "      <th>product</th>\n",
       "      <th>date</th>\n",
       "      <th>amount</th>\n",
       "      <th>boxes_shipped</th>\n",
       "    </tr>\n",
       "  </thead>\n",
       "  <tbody>\n",
       "    <tr>\n",
       "      <th>0</th>\n",
       "      <td>Jehu Rudeforth</td>\n",
       "      <td>UK</td>\n",
       "      <td>Mint Chip Choco</td>\n",
       "      <td>04-Jan-22</td>\n",
       "      <td>$5,320</td>\n",
       "      <td>180</td>\n",
       "    </tr>\n",
       "    <tr>\n",
       "      <th>1</th>\n",
       "      <td>Van Tuxwell</td>\n",
       "      <td>India</td>\n",
       "      <td>85% Dark Bars</td>\n",
       "      <td>01-Aug-22</td>\n",
       "      <td>$7,896</td>\n",
       "      <td>94</td>\n",
       "    </tr>\n",
       "  </tbody>\n",
       "</table>\n",
       "</div>"
      ],
      "text/plain": [
       "     sales_person country          product       date   amount  boxes_shipped\n",
       "0  Jehu Rudeforth      UK  Mint Chip Choco  04-Jan-22  $5,320             180\n",
       "1     Van Tuxwell   India    85% Dark Bars  01-Aug-22  $7,896              94"
      ]
     },
     "execution_count": 7,
     "metadata": {},
     "output_type": "execute_result"
    }
   ],
   "source": [
    "Chocolate.columns = Chocolate.columns.str.lower().str.replace(' ', '_')\n",
    "Chocolate.head(2)"
   ]
  },
  {
   "cell_type": "code",
   "execution_count": 8,
   "metadata": {
    "colab": {
     "base_uri": "https://localhost:8080/"
    },
    "id": "AWUXjqx_reaF",
    "outputId": "46950651-8337-474c-ad97-489696c4342e"
   },
   "outputs": [],
   "source": [
    "Chocolate['date']=pd.to_datetime(Chocolate['date'],errors='coerce')"
   ]
  },
  {
   "cell_type": "code",
   "execution_count": 9,
   "metadata": {
    "colab": {
     "base_uri": "https://localhost:8080/",
     "height": 272
    },
    "id": "E_L3RpDFsOVA",
    "outputId": "95a7bd3b-82a0-402a-8953-306f6d372aa5"
   },
   "outputs": [
    {
     "data": {
      "text/plain": [
       "sales_person     0\n",
       "country          0\n",
       "product          0\n",
       "date             0\n",
       "amount           0\n",
       "boxes_shipped    0\n",
       "dtype: int64"
      ]
     },
     "execution_count": 9,
     "metadata": {},
     "output_type": "execute_result"
    }
   ],
   "source": [
    "Chocolate.isnull().sum()"
   ]
  },
  {
   "cell_type": "code",
   "execution_count": 10,
   "metadata": {
    "id": "uZnBu1Oesqlg"
   },
   "outputs": [],
   "source": [
    "Chocolate['amount'] = Chocolate['amount'].astype(str)\n",
    "Chocolate['amount'] = Chocolate['amount'].str.replace('$', '')\n",
    "Chocolate['amount'] = Chocolate['amount'].str.replace(',', '')\n",
    "Chocolate['amount'] = Chocolate['amount'].astype(int)"
   ]
  },
  {
   "cell_type": "code",
   "execution_count": 11,
   "metadata": {
    "id": "R-h78UCStYWV"
   },
   "outputs": [],
   "source": [
    "Chocolate['year'] = Chocolate['date'].dt.year\n",
    "Chocolate['quarter'] = Chocolate['date'].dt.quarter\n",
    "Chocolate['month_name'] = Chocolate['date'].dt.month_name()\n",
    "Chocolate['day_name'] = Chocolate['date'].dt.day_name()"
   ]
  },
  {
   "cell_type": "code",
   "execution_count": 12,
   "metadata": {
    "colab": {
     "base_uri": "https://localhost:8080/"
    },
    "id": "YxMNceiJsT5B",
    "outputId": "2ce3df51-dfb4-4931-db3f-8b90e538f874"
   },
   "outputs": [
    {
     "name": "stdout",
     "output_type": "stream",
     "text": [
      "<class 'pandas.core.frame.DataFrame'>\n",
      "RangeIndex: 1094 entries, 0 to 1093\n",
      "Data columns (total 10 columns):\n",
      " #   Column         Non-Null Count  Dtype         \n",
      "---  ------         --------------  -----         \n",
      " 0   sales_person   1094 non-null   object        \n",
      " 1   country        1094 non-null   object        \n",
      " 2   product        1094 non-null   object        \n",
      " 3   date           1094 non-null   datetime64[ns]\n",
      " 4   amount         1094 non-null   int32         \n",
      " 5   boxes_shipped  1094 non-null   int64         \n",
      " 6   year           1094 non-null   int64         \n",
      " 7   quarter        1094 non-null   int64         \n",
      " 8   month_name     1094 non-null   object        \n",
      " 9   day_name       1094 non-null   object        \n",
      "dtypes: datetime64[ns](1), int32(1), int64(3), object(5)\n",
      "memory usage: 81.3+ KB\n"
     ]
    }
   ],
   "source": [
    "Chocolate.info()"
   ]
  },
  {
   "cell_type": "code",
   "execution_count": 13,
   "metadata": {
    "id": "K6sLVlMpu8fF"
   },
   "outputs": [],
   "source": [
    "Chocolate.to_csv('Chocolate_Sales_update.csv', index=False)"
   ]
  },
  {
   "cell_type": "markdown",
   "metadata": {
    "id": "3SFi0i7HuP0J"
   },
   "source": [
    "## data visualization"
   ]
  },
  {
   "cell_type": "code",
   "execution_count": 14,
   "metadata": {
    "colab": {
     "base_uri": "https://localhost:8080/",
     "height": 317
    },
    "id": "RMwylDFnuV15",
    "outputId": "4dd3088c-19ba-46e6-dc8b-a3e00e7d46c5"
   },
   "outputs": [
    {
     "data": {
      "text/html": [
       "<div>\n",
       "<style scoped>\n",
       "    .dataframe tbody tr th:only-of-type {\n",
       "        vertical-align: middle;\n",
       "    }\n",
       "\n",
       "    .dataframe tbody tr th {\n",
       "        vertical-align: top;\n",
       "    }\n",
       "\n",
       "    .dataframe thead th {\n",
       "        text-align: right;\n",
       "    }\n",
       "</style>\n",
       "<table border=\"1\" class=\"dataframe\">\n",
       "  <thead>\n",
       "    <tr style=\"text-align: right;\">\n",
       "      <th></th>\n",
       "      <th>amount</th>\n",
       "      <th>boxes_shipped</th>\n",
       "      <th>year</th>\n",
       "      <th>quarter</th>\n",
       "    </tr>\n",
       "  </thead>\n",
       "  <tbody>\n",
       "    <tr>\n",
       "      <th>count</th>\n",
       "      <td>1094.000000</td>\n",
       "      <td>1094.000000</td>\n",
       "      <td>1094.0</td>\n",
       "      <td>1094.000000</td>\n",
       "    </tr>\n",
       "    <tr>\n",
       "      <th>mean</th>\n",
       "      <td>5652.308044</td>\n",
       "      <td>161.797989</td>\n",
       "      <td>2022.0</td>\n",
       "      <td>1.897623</td>\n",
       "    </tr>\n",
       "    <tr>\n",
       "      <th>std</th>\n",
       "      <td>4102.442014</td>\n",
       "      <td>121.544145</td>\n",
       "      <td>0.0</td>\n",
       "      <td>0.780910</td>\n",
       "    </tr>\n",
       "    <tr>\n",
       "      <th>min</th>\n",
       "      <td>7.000000</td>\n",
       "      <td>1.000000</td>\n",
       "      <td>2022.0</td>\n",
       "      <td>1.000000</td>\n",
       "    </tr>\n",
       "    <tr>\n",
       "      <th>25%</th>\n",
       "      <td>2390.500000</td>\n",
       "      <td>70.000000</td>\n",
       "      <td>2022.0</td>\n",
       "      <td>1.000000</td>\n",
       "    </tr>\n",
       "    <tr>\n",
       "      <th>50%</th>\n",
       "      <td>4868.500000</td>\n",
       "      <td>135.000000</td>\n",
       "      <td>2022.0</td>\n",
       "      <td>2.000000</td>\n",
       "    </tr>\n",
       "    <tr>\n",
       "      <th>75%</th>\n",
       "      <td>8027.250000</td>\n",
       "      <td>228.750000</td>\n",
       "      <td>2022.0</td>\n",
       "      <td>3.000000</td>\n",
       "    </tr>\n",
       "    <tr>\n",
       "      <th>max</th>\n",
       "      <td>22050.000000</td>\n",
       "      <td>709.000000</td>\n",
       "      <td>2022.0</td>\n",
       "      <td>3.000000</td>\n",
       "    </tr>\n",
       "  </tbody>\n",
       "</table>\n",
       "</div>"
      ],
      "text/plain": [
       "             amount  boxes_shipped    year      quarter\n",
       "count   1094.000000    1094.000000  1094.0  1094.000000\n",
       "mean    5652.308044     161.797989  2022.0     1.897623\n",
       "std     4102.442014     121.544145     0.0     0.780910\n",
       "min        7.000000       1.000000  2022.0     1.000000\n",
       "25%     2390.500000      70.000000  2022.0     1.000000\n",
       "50%     4868.500000     135.000000  2022.0     2.000000\n",
       "75%     8027.250000     228.750000  2022.0     3.000000\n",
       "max    22050.000000     709.000000  2022.0     3.000000"
      ]
     },
     "execution_count": 14,
     "metadata": {},
     "output_type": "execute_result"
    }
   ],
   "source": [
    "Chocolate.describe()"
   ]
  },
  {
   "cell_type": "code",
   "execution_count": 15,
   "metadata": {
    "colab": {
     "base_uri": "https://localhost:8080/",
     "height": 175
    },
    "id": "lCXeuDJzuaTZ",
    "outputId": "306dd561-f612-41e9-ba71-705a41db5e44"
   },
   "outputs": [
    {
     "data": {
      "text/html": [
       "<div>\n",
       "<style scoped>\n",
       "    .dataframe tbody tr th:only-of-type {\n",
       "        vertical-align: middle;\n",
       "    }\n",
       "\n",
       "    .dataframe tbody tr th {\n",
       "        vertical-align: top;\n",
       "    }\n",
       "\n",
       "    .dataframe thead th {\n",
       "        text-align: right;\n",
       "    }\n",
       "</style>\n",
       "<table border=\"1\" class=\"dataframe\">\n",
       "  <thead>\n",
       "    <tr style=\"text-align: right;\">\n",
       "      <th></th>\n",
       "      <th>sales_person</th>\n",
       "      <th>country</th>\n",
       "      <th>product</th>\n",
       "      <th>month_name</th>\n",
       "      <th>day_name</th>\n",
       "    </tr>\n",
       "  </thead>\n",
       "  <tbody>\n",
       "    <tr>\n",
       "      <th>count</th>\n",
       "      <td>1094</td>\n",
       "      <td>1094</td>\n",
       "      <td>1094</td>\n",
       "      <td>1094</td>\n",
       "      <td>1094</td>\n",
       "    </tr>\n",
       "    <tr>\n",
       "      <th>unique</th>\n",
       "      <td>25</td>\n",
       "      <td>6</td>\n",
       "      <td>22</td>\n",
       "      <td>8</td>\n",
       "      <td>5</td>\n",
       "    </tr>\n",
       "    <tr>\n",
       "      <th>top</th>\n",
       "      <td>Kelci Walkden</td>\n",
       "      <td>Australia</td>\n",
       "      <td>50% Dark Bites</td>\n",
       "      <td>June</td>\n",
       "      <td>Monday</td>\n",
       "    </tr>\n",
       "    <tr>\n",
       "      <th>freq</th>\n",
       "      <td>54</td>\n",
       "      <td>205</td>\n",
       "      <td>60</td>\n",
       "      <td>163</td>\n",
       "      <td>253</td>\n",
       "    </tr>\n",
       "  </tbody>\n",
       "</table>\n",
       "</div>"
      ],
      "text/plain": [
       "         sales_person    country         product month_name day_name\n",
       "count            1094       1094            1094       1094     1094\n",
       "unique             25          6              22          8        5\n",
       "top     Kelci Walkden  Australia  50% Dark Bites       June   Monday\n",
       "freq               54        205              60        163      253"
      ]
     },
     "execution_count": 15,
     "metadata": {},
     "output_type": "execute_result"
    }
   ],
   "source": [
    "Chocolate.describe(include='object')"
   ]
  },
  {
   "cell_type": "code",
   "execution_count": 1,
   "metadata": {},
   "outputs": [],
   "source": [
    "import pandas as pd\n",
    "\n",
    "file_path = \"Chocolate_Sales_update.csv\"\n",
    "df = pd.read_csv(file_path)\n",
    "df['amount'] = pd.to_numeric(df['amount'], errors='coerce')\n",
    "df['boxes_shipped'] = pd.to_numeric(df['boxes_shipped'], errors='coerce')\n"
   ]
  },
  {
   "cell_type": "code",
   "execution_count": 3,
   "metadata": {},
   "outputs": [
    {
     "data": {
      "text/plain": [
       "sales_person     0\n",
       "country          0\n",
       "product          0\n",
       "date             0\n",
       "amount           0\n",
       "boxes_shipped    0\n",
       "year             0\n",
       "quarter          0\n",
       "month_name       0\n",
       "day_name         0\n",
       "dtype: int64"
      ]
     },
     "execution_count": 3,
     "metadata": {},
     "output_type": "execute_result"
    }
   ],
   "source": [
    "df.isnull().sum()"
   ]
  },
  {
   "cell_type": "code",
   "execution_count": 4,
   "metadata": {},
   "outputs": [
    {
     "name": "stdout",
     "output_type": "stream",
     "text": [
      "<class 'pandas.core.frame.DataFrame'>\n",
      "RangeIndex: 1094 entries, 0 to 1093\n",
      "Data columns (total 10 columns):\n",
      " #   Column         Non-Null Count  Dtype \n",
      "---  ------         --------------  ----- \n",
      " 0   sales_person   1094 non-null   object\n",
      " 1   country        1094 non-null   object\n",
      " 2   product        1094 non-null   object\n",
      " 3   date           1094 non-null   object\n",
      " 4   amount         1094 non-null   int64 \n",
      " 5   boxes_shipped  1094 non-null   int64 \n",
      " 6   year           1094 non-null   int64 \n",
      " 7   quarter        1094 non-null   int64 \n",
      " 8   month_name     1094 non-null   object\n",
      " 9   day_name       1094 non-null   object\n",
      "dtypes: int64(4), object(6)\n",
      "memory usage: 85.6+ KB\n"
     ]
    }
   ],
   "source": [
    "df.info()"
   ]
  },
  {
   "cell_type": "code",
   "execution_count": 1,
   "metadata": {
    "id": "lbEctKjuulI0"
   },
   "outputs": [
    {
     "name": "stdout",
     "output_type": "stream",
     "text": [
      "Overwriting Chocolate_Sales_dashboard.py\n"
     ]
    }
   ],
   "source": [
    "%%writefile Chocolate_Sales_dashboard.py\n",
    "import pandas as pd\n",
    "import plotly.express as px\n",
    "import streamlit as st\n",
    "# Load data\n",
    "file_path = \"Chocolate_Sales_update.csv\"\n",
    "df = pd.read_csv(file_path)\n",
    "\n",
    "# Rename columns for clarity\n",
    "df.rename(columns={\n",
    "    \"sales_person\": \"Salesperson\",\n",
    "    \"country\": \"Country\",\n",
    "    \"product\": \"Product\",\n",
    "    \"date\": \"Date\",\n",
    "    \"amount\": \"Sales_Amount\",\n",
    "    \"boxes_shipped\": \"Boxes_Shipped\",\n",
    "    \"year\": \"Year\",\n",
    "    \"quarter\": \"Quarter\",\n",
    "    \"month_name\": \"Month\",\n",
    "    \"day_name\": \"Day\"\n",
    "}, inplace=True)\n",
    "\n",
    "# Color Palette\n",
    "color_palette = [\"#fc6601\", \"#fa812a\", \"#8b4000\", \"#faa602\", \"#f6a001\", \"#daa520\", \"#eb9605\", \"#883001\"]\n",
    "\n",
    "# Setup\n",
    "st.set_page_config(layout=\"wide\", page_title=\"Chocolate Sales Dashboard\")\n",
    "\n",
    "st.markdown(\"\"\"\n",
    "<h1 style='color: #2F4858;'>Chocolate Sales Dashboard</h1>\n",
    "<p style='font-size:16px;'><b>Analyze chocolate sales data across different countries, products, and time periods.</b></p>\n",
    "\"\"\", unsafe_allow_html=True)\n",
    "\n",
    "# Sidebar Filters\n",
    "with st.sidebar:\n",
    "    st.header(\"Filters\")\n",
    "    countries = sorted(df[\"Country\"].unique().tolist())\n",
    "    countries.insert(0, \"All\")\n",
    "    country = st.multiselect(\"Country\", countries, default=[\"All\"])\n",
    "    products = sorted(df[\"Product\"].unique().tolist())\n",
    "    products.insert(0, \"All\")  \n",
    "    product = st.multiselect(\"Product\", products, default=[\"All\"])\n",
    "    quarter = st.selectbox(\"Quarter\", [\"All\"] + sorted(df[\"Quarter\"].unique().tolist()), index=0)\n",
    "    month = st.selectbox(\"Month\", [\"All\"] + sorted(df[\"Month\"].unique().tolist()), index=0)\n",
    "    price_range = st.slider(\n",
    "        \"Select Price Range\",\n",
    "        int(df[\"Sales_Amount\"].min()),\n",
    "        int(df[\"Sales_Amount\"].max()),\n",
    "        (int(df[\"Sales_Amount\"].min()), int(df[\"Sales_Amount\"].max())))\n",
    "\n",
    "\n",
    "# Apply Filters\n",
    "filtered_df = df.copy()\n",
    "\n",
    "# Country Filter\n",
    "if \"All\" not in country:\n",
    "    filtered_df = filtered_df[filtered_df[\"Country\"].isin(country)]\n",
    "\n",
    "# Product Filter\n",
    "if \"All\" not in product:\n",
    "    filtered_df = filtered_df[filtered_df[\"Product\"].isin(product)]\n",
    "\n",
    "# Price Range Filter\n",
    "filtered_df = filtered_df[(filtered_df[\"Sales_Amount\"] >= price_range[0]) & (filtered_df[\"Sales_Amount\"] <= price_range[1])]\n",
    "\n",
    "# Quarter Filter\n",
    "if quarter != \"All\":\n",
    "    filtered_df = filtered_df[filtered_df[\"Quarter\"] == quarter]\n",
    "\n",
    "# Month Filter\n",
    "if month != \"All\":\n",
    "    filtered_df = filtered_df[filtered_df[\"Month\"] == month]\n",
    "\n",
    "# Key Metrics\n",
    "st.markdown(\"\"\"\n",
    "    <style>\n",
    "    .metric-container {\n",
    "        display: flex;\n",
    "        justify-content: space-between;\n",
    "        gap: 10px;\n",
    "    }\n",
    "    .metric-box {\n",
    "        border: 2px solid #fc6601;\n",
    "        border-radius: 10px;\n",
    "        padding: 10px;\n",
    "        text-align: center;\n",
    "        width: 100%;\n",
    "        background-color: #fff8ee;\n",
    "    }\n",
    "    </style>\n",
    "    \"\"\", unsafe_allow_html=True)\n",
    "\n",
    "col1, col2, col3, col4 = st.columns(4)\n",
    "if not filtered_df.empty:\n",
    "    with col1:\n",
    "        st.markdown(\"<div class='metric-box'><b>Total Sales Amount</b><br>${:,.2f}</div>\".format(filtered_df['Sales_Amount'].sum()), unsafe_allow_html=True)\n",
    "    with col2:\n",
    "        st.markdown(\"<div class='metric-box'><b>Average Sales per Transaction</b><br>${:,.2f}</div>\".format(filtered_df['Sales_Amount'].mean()), unsafe_allow_html=True)\n",
    "    with col3:\n",
    "        st.markdown(\"<div class='metric-box'><b>Total Boxes Shipped</b><br>{:,}</div>\".format(filtered_df['Boxes_Shipped'].sum()), unsafe_allow_html=True)\n",
    "    with col4:\n",
    "        st.markdown(\"<div class='metric-box'><b>Average Boxes Shipped</b><br>{:,.2f}</div>\".format(filtered_df['Boxes_Shipped'].mean()), unsafe_allow_html=True)\n",
    "else:\n",
    "    st.warning(\"No data available for selected filters.\")\n",
    "\n",
    "# Tabs\n",
    "tab1, tab2, tab3, tab4, tab5, tab6 = st.tabs([\"Sales Distribution\", \"Time Analysis\", \"Product Performance\", \"Salesperson Performance\", \"Country Performance\", \"Correlation Analysis\"])\n",
    "\n",
    "# Sales Distribution\n",
    "with tab1:\n",
    "    col1, col2 = st.columns(2)\n",
    "    with col1:\n",
    "        st.subheader(\"Sales Distribution Overview\")\n",
    "        st.markdown(\"<h4 style='font-size:18px;'>Summary Statistics</h4>\", unsafe_allow_html=True)\n",
    "        summary_stats = filtered_df[['Sales_Amount', 'Boxes_Shipped']].describe()\n",
    "        st.dataframe(summary_stats, width=450)\n",
    "        st.markdown(\"<br><br>\", unsafe_allow_html=True)\n",
    "        st.markdown(\"<h4 style='font-size:18px;'>Categorical Analysis</h4>\", unsafe_allow_html=True)\n",
    "        object_columns = df.select_dtypes(include=['object']).nunique().reset_index()\n",
    "        object_columns.columns = [\"Column Name\", \"Unique Values\"]\n",
    "        st.dataframe(object_columns, width=450)\n",
    "    with col2:\n",
    "        st.plotly_chart(px.histogram(filtered_df, x=\"Sales_Amount\", title=\"Sales Amount Distribution\", color_discrete_sequence=[color_palette[0]]), use_container_width=True)\n",
    "        st.plotly_chart(px.histogram(filtered_df, x=\"Boxes_Shipped\", title=\"Boxes Shipped Distribution\", color_discrete_sequence=[color_palette[3]]), use_container_width=True)\n",
    "\n",
    "# Time Analysis\n",
    "with tab2:\n",
    "    col1, col2 = st.columns(2)\n",
    "    with col1:\n",
    "        st.subheader(\"Sales Amount by Month\")\n",
    "        top_months = filtered_df.groupby(\"Month\")[[\"Sales_Amount\"]].sum().sort_values(by=\"Sales_Amount\", ascending=False).reset_index()\n",
    "        st.dataframe(top_months, width=500)\n",
    "        st.markdown(\"<br><br>\", unsafe_allow_html=True)\n",
    "        st.subheader(\"Sales Amount by Day of Week\")\n",
    "        top_days = filtered_df.groupby(\"Day\")[[\"Sales_Amount\"]].sum().sort_values(by=\"Sales_Amount\", ascending=False).reset_index()\n",
    "        st.dataframe(top_days, width=400)\n",
    "    with col2:\n",
    "        st.plotly_chart(px.line(top_months, x=\"Month\", y=\"Sales_Amount\", title=\"Monthly Sales Trends\", color_discrete_sequence=[color_palette[2]]).update_traces(mode='lines+markers'), use_container_width=True)\n",
    "        st.plotly_chart(px.line(top_days, x=\"Day\", y=\"Sales_Amount\", title=\"Daily Sales Trends\", color_discrete_sequence=[color_palette[4]]).update_traces(mode='lines+markers'), use_container_width=True)\n",
    "\n",
    "# Product Performance\n",
    "with tab3:\n",
    "    col1, col2 = st.columns(2)\n",
    "    with col1:\n",
    "        st.subheader(\"Top Product Sales Performance\")\n",
    "        top_products_sales = filtered_df.groupby(\"Product\")[[\"Sales_Amount\", \"Boxes_Shipped\"]].sum().sort_values(by=\"Sales_Amount\", ascending=False).head(10).reset_index()\n",
    "        st.dataframe(top_products_sales, width=450)\n",
    "        st.plotly_chart(px.bar(top_products_sales, x=\"Product\", y=\"Sales_Amount\", title=\"Top Products by Sales Amount\", color=\"Product\", color_discrete_sequence=color_palette,height =550), use_container_width=True)\n",
    "\n",
    "    with col2:\n",
    "        top_products_boxes = filtered_df.groupby(\"Product\")[[\"Sales_Amount\", \"Boxes_Shipped\"]].sum().sort_values(by=\"Boxes_Shipped\", ascending=False).head(10).reset_index()\n",
    "        st.plotly_chart(px.pie(top_products_boxes, names=\"Product\", values=\"Boxes_Shipped\", title=\"Top 10 Products by Boxes Shipped\", color_discrete_sequence=color_palette), use_container_width=True)\n",
    "        st.plotly_chart(px.box(filtered_df, x=\"Product\", y=\"Boxes_Shipped\", title=\"Boxes Shipped Distribution by Product\", color_discrete_sequence=color_palette), use_container_width=True)\n",
    "\n",
    "# Salesperson Performance\n",
    "with tab4:\n",
    "    col1, col2 = st.columns(2)\n",
    "    with col1:\n",
    "        st.subheader(\"Top Salesperson Performance\")\n",
    "        top_salesperson_sales = filtered_df.groupby(\"Salesperson\")[[\"Sales_Amount\", \"Boxes_Shipped\"]].sum().sort_values(by=\"Sales_Amount\", ascending=False).head(10).reset_index()\n",
    "        st.dataframe(top_salesperson_sales, width=450)\n",
    "        st.plotly_chart(px.bar(top_salesperson_sales, x=\"Salesperson\", y=\"Sales_Amount\", title=\"Top Salespersons by Sales Amount\", color=\"Salesperson\", color_discrete_sequence=color_palette ,height =550), use_container_width=True)\n",
    "    with col2:\n",
    "        top_salesperson_boxes = filtered_df.groupby(\"Salesperson\")[[\"Sales_Amount\", \"Boxes_Shipped\"]].sum().sort_values(by=\"Boxes_Shipped\", ascending=False).head(10).reset_index()\n",
    "        st.plotly_chart(px.pie(top_salesperson_boxes, names=\"Salesperson\", values=\"Boxes_Shipped\", title=\"Top 10 Salespersons by Boxes Shipped\", color_discrete_sequence=color_palette), use_container_width=True)\n",
    "        st.plotly_chart(px.box(filtered_df, x=\"Salesperson\", y=\"Boxes_Shipped\", title=\"Boxes Shipped Distribution by Salesperson\", color_discrete_sequence=color_palette), use_container_width=True)\n",
    "\n",
    "# Country Performance\n",
    "with tab5:\n",
    "    col1, col2 = st.columns(2)\n",
    "    with col1:\n",
    "        st.subheader(\"Country-wise Sales Analysis\")\n",
    "        top_country_sales = filtered_df.groupby(\"Country\")[[\"Sales_Amount\", \"Boxes_Shipped\"]].sum().sort_values(by=\"Sales_Amount\", ascending=False).reset_index()\n",
    "        st.dataframe(top_country_sales, width=450)\n",
    "        st.markdown(\"<br><br>\", unsafe_allow_html=True)\n",
    "        st.plotly_chart(px.bar(top_country_sales, x=\"Country\", y=\"Sales_Amount\", title=\"Total Sales by Country\", color=\"Country\", color_discrete_sequence=color_palette,height =550), use_container_width=True)\n",
    "    with col2:\n",
    "        top_country_boxes = filtered_df.groupby(\"Country\")[[\"Sales_Amount\", \"Boxes_Shipped\"]].sum().sort_values(by=\"Boxes_Shipped\", ascending=False).reset_index()\n",
    "        st.plotly_chart(px.pie(top_country_boxes, names=\"Country\", values=\"Boxes_Shipped\", title=\"Boxes Shipped by Country\", color_discrete_sequence=color_palette), use_container_width=True)\n",
    "        st.plotly_chart(px.box(filtered_df, x=\"Country\", y=\"Boxes_Shipped\", title=\"Boxes Shipped Distribution by Country\", color_discrete_sequence=color_palette), use_container_width=True)\n",
    "\n",
    "# Correlation Analysis\n",
    "with tab6:\n",
    "    st.subheader(\"Correlation Matrix\")\n",
    "    correlation_matrix = filtered_df[[\"Sales_Amount\", \"Boxes_Shipped\", \"Quarter\"]].select_dtypes(include=['number']).corr().round(2)\n",
    "    fig = px.imshow(correlation_matrix, text_auto=True, title=\"Feature Correlation Heatmap\", color_continuous_scale=color_palette, width=800, height=800)\n",
    "    fig.update_layout(xaxis_title_font=dict(size=16), yaxis_title_font=dict(size=16), title_font=dict(size=20))\n",
    "    st.plotly_chart(fig, use_container_width=True)"
   ]
  },
  {
   "cell_type": "code",
   "execution_count": null,
   "metadata": {},
   "outputs": [],
   "source": [
    "! streamlit run Chocolate_Sales_dashboard.py"
   ]
  },
  {
   "cell_type": "code",
   "execution_count": null,
   "metadata": {},
   "outputs": [],
   "source": []
  }
 ],
 "metadata": {
  "colab": {
   "provenance": []
  },
  "kernelspec": {
   "display_name": "Python 3",
   "language": "python",
   "name": "python3"
  },
  "language_info": {
   "codemirror_mode": {
    "name": "ipython",
    "version": 3
   },
   "file_extension": ".py",
   "mimetype": "text/x-python",
   "name": "python",
   "nbconvert_exporter": "python",
   "pygments_lexer": "ipython3",
   "version": "3.7.6"
  }
 },
 "nbformat": 4,
 "nbformat_minor": 1
}
