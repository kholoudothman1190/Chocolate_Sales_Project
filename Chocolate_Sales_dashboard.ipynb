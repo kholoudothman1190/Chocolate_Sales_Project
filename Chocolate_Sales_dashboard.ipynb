{
 "cells": [
  {
   "cell_type": "code",
   "execution_count": null,
   "metadata": {
    "colab": {
     "base_uri": "https://localhost:8080/"
    },
    "id": "AuEA0PmroMuY",
    "outputId": "d8dfedca-9090-48eb-ee18-f730cea96ba9"
   },
   "outputs": [],
   "source": [
    "!pip install streamlit"
   ]
  },
  {
   "cell_type": "code",
   "execution_count": 4,
   "metadata": {},
   "outputs": [
    {
     "name": "stdout",
     "output_type": "stream",
     "text": [
      "Collecting plotly.express\n",
      "  Using cached plotly_express-0.4.1-py2.py3-none-any.whl (2.9 kB)\n",
      "Requirement already satisfied: patsy>=0.5 in c:\\users\\smsm\\anaconda3\\lib\\site-packages (from plotly.express) (0.5.1)\n",
      "Requirement already satisfied: scipy>=0.18 in c:\\users\\smsm\\anaconda3\\lib\\site-packages (from plotly.express) (1.4.1)\n",
      "Requirement already satisfied: statsmodels>=0.9.0 in c:\\users\\smsm\\anaconda3\\lib\\site-packages (from plotly.express) (0.11.0)\n",
      "Collecting plotly>=4.1.0\n",
      "  Using cached plotly-5.18.0-py3-none-any.whl (15.6 MB)\n",
      "Requirement already satisfied: pandas>=0.20.0 in c:\\users\\smsm\\anaconda3\\lib\\site-packages (from plotly.express) (1.0.1)\n",
      "Requirement already satisfied: numpy>=1.11 in c:\\users\\smsm\\anaconda3\\lib\\site-packages (from plotly.express) (1.18.1)\n",
      "Requirement already satisfied: six in c:\\users\\smsm\\anaconda3\\lib\\site-packages (from patsy>=0.5->plotly.express) (1.14.0)\n",
      "Collecting tenacity>=6.2.0\n",
      "  Using cached tenacity-8.2.3-py3-none-any.whl (24 kB)\n",
      "Requirement already satisfied: packaging in c:\\users\\smsm\\anaconda3\\lib\\site-packages (from plotly>=4.1.0->plotly.express) (20.1)\n",
      "Requirement already satisfied: pytz>=2017.2 in c:\\users\\smsm\\anaconda3\\lib\\site-packages (from pandas>=0.20.0->plotly.express) (2019.3)\n",
      "Requirement already satisfied: python-dateutil>=2.6.1 in c:\\users\\smsm\\anaconda3\\lib\\site-packages (from pandas>=0.20.0->plotly.express) (2.8.1)\n",
      "Requirement already satisfied: pyparsing>=2.0.2 in c:\\users\\smsm\\anaconda3\\lib\\site-packages (from packaging->plotly>=4.1.0->plotly.express) (2.4.6)\n",
      "Installing collected packages: tenacity, plotly, plotly.express\n",
      "Successfully installed plotly-5.18.0 plotly.express tenacity-8.2.3\n"
     ]
    }
   ],
   "source": [
    "!pip install plotly.express"
   ]
  },
  {
   "cell_type": "code",
   "execution_count": 3,
   "metadata": {},
   "outputs": [
    {
     "name": "stdout",
     "output_type": "stream",
     "text": [
      "Requirement already satisfied: pandas in c:\\users\\smsm\\anaconda3\\lib\\site-packages (1.0.1)\n",
      "Requirement already satisfied: numpy>=1.13.3 in c:\\users\\smsm\\anaconda3\\lib\\site-packages (from pandas) (1.18.1)\n",
      "Requirement already satisfied: python-dateutil>=2.6.1 in c:\\users\\smsm\\anaconda3\\lib\\site-packages (from pandas) (2.8.1)\n",
      "Requirement already satisfied: pytz>=2017.2 in c:\\users\\smsm\\anaconda3\\lib\\site-packages (from pandas) (2019.3)\n",
      "Requirement already satisfied: six>=1.5 in c:\\users\\smsm\\anaconda3\\lib\\site-packages (from python-dateutil>=2.6.1->pandas) (1.14.0)\n"
     ]
    }
   ],
   "source": [
    "!pip install pandas"
   ]
  },
  {
   "cell_type": "code",
   "execution_count": null,
   "metadata": {},
   "outputs": [],
   "source": [
    "! streamlit hello"
   ]
  },
  {
   "cell_type": "code",
   "execution_count": 1,
   "metadata": {
    "id": "8EfvPRqWnv8N"
   },
   "outputs": [],
   "source": [
    "import pandas as pd"
   ]
  },
  {
   "cell_type": "code",
   "execution_count": 1,
   "metadata": {
    "id": "lbEctKjuulI0"
   },
   "outputs": [
    {
     "name": "stdout",
     "output_type": "stream",
     "text": [
      "Overwriting Chocolate_Sales_dashboard.py\n"
     ]
    }
   ],
   "source": [
    "%%writefile Chocolate_Sales_dashboard.py\n",
    "import pandas as pd\n",
    "import plotly.express as px\n",
    "import streamlit as st\n",
    "# Load data\n",
    "file_path = \"Chocolate_Sales_update.csv\"\n",
    "df = pd.read_csv(file_path)\n",
    "\n",
    "# Rename columns\n",
    "df.rename(columns={\n",
    "    \"sales_person\": \"Salesperson\",\n",
    "    \"country\": \"Country\",\n",
    "    \"product\": \"Product\",\n",
    "    \"date\": \"Date\",\n",
    "    \"amount\": \"Sales_Amount\",\n",
    "    \"boxes_shipped\": \"Boxes_Shipped\",\n",
    "    \"year\": \"Year\",\n",
    "    \"quarter\": \"Quarter\",\n",
    "    \"month_name\": \"Month\",\n",
    "    \"day_name\": \"Day\"\n",
    "}, inplace=True)\n",
    "\n",
    "# Color Palette\n",
    "color_palette = [\"#fc6601\", \"#fa812a\", \"#8b4000\", \"#faa602\", \"#f6a001\", \"#daa520\", \"#eb9605\", \"#883001\"]\n",
    "\n",
    "# Setup\n",
    "st.set_page_config(layout=\"wide\", page_title=\"Chocolate Sales Dashboard\")\n",
    "\n",
    "st.markdown(\"\"\"\n",
    "<h1 style='color: #2F4858;'>Chocolate Sales Dashboard</h1>\n",
    "<p style='font-size:16px;'><b>Analyze chocolate sales data across different countries, products, and time periods.</b></p>\n",
    "\"\"\", unsafe_allow_html=True)\n",
    "\n",
    "# Sidebar Filters\n",
    "with st.sidebar:\n",
    "    st.header(\"Filters\")\n",
    "    countries = sorted(df[\"Country\"].unique().tolist())\n",
    "    countries.insert(0, \"All\")\n",
    "    country = st.multiselect(\"Country\", countries, default=[\"All\"])\n",
    "    products = sorted(df[\"Product\"].unique().tolist())\n",
    "    products.insert(0, \"All\")  \n",
    "    product = st.multiselect(\"Product\", products, default=[\"All\"])\n",
    "    quarter = st.selectbox(\"Quarter\", [\"All\"] + sorted(df[\"Quarter\"].unique().tolist()), index=0)\n",
    "    month = st.selectbox(\"Month\", [\"All\"] + sorted(df[\"Month\"].unique().tolist()), index=0)\n",
    "    price_range = st.slider(\n",
    "        \"Select Price Range\",\n",
    "        int(df[\"Sales_Amount\"].min()),\n",
    "        int(df[\"Sales_Amount\"].max()),\n",
    "        (int(df[\"Sales_Amount\"].min()), int(df[\"Sales_Amount\"].max())))\n",
    "\n",
    "\n",
    "# Filters\n",
    "filtered_df = df.copy()\n",
    "\n",
    "if \"All\" not in country:\n",
    "    filtered_df = filtered_df[filtered_df[\"Country\"].isin(country)]\n",
    "\n",
    "if \"All\" not in product:\n",
    "    filtered_df = filtered_df[filtered_df[\"Product\"].isin(product)]\n",
    "\n",
    "filtered_df = filtered_df[(filtered_df[\"Sales_Amount\"] >= price_range[0]) & (filtered_df[\"Sales_Amount\"] <= price_range[1])]\n",
    "\n",
    "if quarter != \"All\":\n",
    "    filtered_df = filtered_df[filtered_df[\"Quarter\"] == quarter]\n",
    "\n",
    "if month != \"All\":\n",
    "    filtered_df = filtered_df[filtered_df[\"Month\"] == month]\n",
    "\n",
    "# Key Metrics\n",
    "st.markdown(\"\"\"\n",
    "    <style>\n",
    "    .metric-container {\n",
    "        display: flex;\n",
    "        justify-content: space-between;\n",
    "        gap: 10px;\n",
    "    }\n",
    "    .metric-box {\n",
    "        border: 2px solid #fc6601;\n",
    "        border-radius: 10px;\n",
    "        padding: 10px;\n",
    "        text-align: center;\n",
    "        width: 100%;\n",
    "        background-color: #fff8ee;\n",
    "    }\n",
    "    </style>\n",
    "    \"\"\", unsafe_allow_html=True)\n",
    "\n",
    "col1, col2, col3, col4 = st.columns(4)\n",
    "if not filtered_df.empty:\n",
    "    with col1:\n",
    "        st.markdown(\"<div class='metric-box'><b>Total Sales Amount</b><br>${:,.2f}</div>\".format(filtered_df['Sales_Amount'].sum()), unsafe_allow_html=True)\n",
    "    with col2:\n",
    "        st.markdown(\"<div class='metric-box'><b>Average Sales per Transaction</b><br>${:,.2f}</div>\".format(filtered_df['Sales_Amount'].mean()), unsafe_allow_html=True)\n",
    "    with col3:\n",
    "        st.markdown(\"<div class='metric-box'><b>Total Boxes Shipped</b><br>{:,}</div>\".format(filtered_df['Boxes_Shipped'].sum()), unsafe_allow_html=True)\n",
    "    with col4:\n",
    "        st.markdown(\"<div class='metric-box'><b>Average Boxes Shipped</b><br>{:,.2f}</div>\".format(filtered_df['Boxes_Shipped'].mean()), unsafe_allow_html=True)\n",
    "else:\n",
    "    st.warning(\"No data available for selected filters.\")\n",
    "\n",
    "# Tabs\n",
    "tab1, tab2, tab3, tab4, tab5, tab6 = st.tabs([\"Sales Distribution\", \"Time Analysis\", \"Product Performance\", \"Salesperson Performance\", \"Country Performance\", \"Correlation Analysis\"])\n",
    "\n",
    "# Sales Distribution\n",
    "with tab1:\n",
    "    col1, col2 = st.columns(2)\n",
    "    with col1:\n",
    "        st.subheader(\"Sales Distribution Overview\")\n",
    "        st.markdown(\"<h4 style='font-size:18px;'>Summary Statistics</h4>\", unsafe_allow_html=True)\n",
    "        summary_stats = filtered_df[['Sales_Amount', 'Boxes_Shipped']].describe()\n",
    "        st.dataframe(summary_stats, width=450)\n",
    "        st.markdown(\"<br><br>\", unsafe_allow_html=True)\n",
    "        st.markdown(\"<h4 style='font-size:18px;'>Categorical Analysis</h4>\", unsafe_allow_html=True)\n",
    "        object_columns = df.select_dtypes(include=['object']).nunique().reset_index()\n",
    "        object_columns.columns = [\"Column Name\", \"Unique Values\"]\n",
    "        st.dataframe(object_columns, width=450)\n",
    "    with col2:\n",
    "        st.plotly_chart(px.histogram(filtered_df, x=\"Sales_Amount\", title=\"Sales Amount Distribution\", color_discrete_sequence=[color_palette[0]]), use_container_width=True)\n",
    "        st.plotly_chart(px.histogram(filtered_df, x=\"Boxes_Shipped\", title=\"Boxes Shipped Distribution\", color_discrete_sequence=[color_palette[3]]), use_container_width=True)\n",
    "\n",
    "# Time Analysis\n",
    "with tab2:\n",
    "    col1, col2 = st.columns(2)\n",
    "    with col1:\n",
    "        st.subheader(\"Sales Amount by Month\")\n",
    "        top_months = filtered_df.groupby(\"Month\")[[\"Sales_Amount\"]].sum().sort_values(by=\"Sales_Amount\", ascending=False).reset_index()\n",
    "        st.dataframe(top_months, width=400)\n",
    "        st.markdown(\"<br><br>\", unsafe_allow_html=True)\n",
    "        st.subheader(\"Sales Amount by Day of Week\")\n",
    "        top_days = filtered_df.groupby(\"Day\")[[\"Sales_Amount\"]].sum().sort_values(by=\"Sales_Amount\", ascending=False).reset_index()\n",
    "        st.dataframe(top_days, width=400)\n",
    "    with col2:\n",
    "        st.plotly_chart(px.line(top_months, x=\"Month\", y=\"Sales_Amount\", title=\"Monthly Sales Trends\", color_discrete_sequence=[color_palette[2]]).update_traces(mode='lines+markers'), use_container_width=True)\n",
    "        st.plotly_chart(px.line(top_days, x=\"Day\", y=\"Sales_Amount\", title=\"Daily Sales Trends\", color_discrete_sequence=[color_palette[4]]).update_traces(mode='lines+markers'), use_container_width=True)\n",
    "\n",
    "# Product Performance\n",
    "with tab3:\n",
    "    col1, col2 = st.columns(2)\n",
    "    with col1:\n",
    "        st.subheader(\"Top Product Sales Performance\")\n",
    "        top_products_sales = filtered_df.groupby(\"Product\")[[\"Sales_Amount\", \"Boxes_Shipped\"]].sum().sort_values(by=\"Sales_Amount\", ascending=False).head(10).reset_index()\n",
    "        st.dataframe(top_products_sales, width=450)\n",
    "        st.plotly_chart(px.bar(top_products_sales, x=\"Product\", y=\"Sales_Amount\", title=\"Top Products by Sales Amount\", color=\"Product\", color_discrete_sequence=color_palette,height =550), use_container_width=True)\n",
    "\n",
    "    with col2:\n",
    "        top_products_boxes = filtered_df.groupby(\"Product\")[[\"Sales_Amount\", \"Boxes_Shipped\"]].sum().sort_values(by=\"Boxes_Shipped\", ascending=False).head(10).reset_index()\n",
    "        st.plotly_chart(px.pie(top_products_boxes, names=\"Product\", values=\"Boxes_Shipped\", title=\"Top 10 Products by Boxes Shipped\", color_discrete_sequence=color_palette), use_container_width=True)\n",
    "        st.plotly_chart(px.box(filtered_df, x=\"Product\", y=\"Boxes_Shipped\", title=\"Boxes Shipped Distribution by Product\", color_discrete_sequence=color_palette), use_container_width=True)\n",
    "\n",
    "# Salesperson Performance\n",
    "with tab4:\n",
    "    col1, col2 = st.columns(2)\n",
    "    with col1:\n",
    "        st.subheader(\"Top Salesperson Performance\")\n",
    "        top_salesperson_sales = filtered_df.groupby(\"Salesperson\")[[\"Sales_Amount\", \"Boxes_Shipped\"]].sum().sort_values(by=\"Sales_Amount\", ascending=False).head(10).reset_index()\n",
    "        st.dataframe(top_salesperson_sales, width=450)\n",
    "        st.plotly_chart(px.bar(top_salesperson_sales, x=\"Salesperson\", y=\"Sales_Amount\", title=\"Top Salespersons by Sales Amount\", color=\"Salesperson\", color_discrete_sequence=color_palette ,height =550), use_container_width=True)\n",
    "    with col2:\n",
    "        top_salesperson_boxes = filtered_df.groupby(\"Salesperson\")[[\"Sales_Amount\", \"Boxes_Shipped\"]].sum().sort_values(by=\"Boxes_Shipped\", ascending=False).head(10).reset_index()\n",
    "        st.plotly_chart(px.pie(top_salesperson_boxes, names=\"Salesperson\", values=\"Boxes_Shipped\", title=\"Top 10 Salespersons by Boxes Shipped\", color_discrete_sequence=color_palette), use_container_width=True)\n",
    "        st.plotly_chart(px.box(filtered_df, x=\"Salesperson\", y=\"Boxes_Shipped\", title=\"Boxes Shipped Distribution by Salesperson\", color_discrete_sequence=color_palette), use_container_width=True)\n",
    "\n",
    "# Country Performance\n",
    "with tab5:\n",
    "    col1, col2 = st.columns(2)\n",
    "    with col1:\n",
    "        st.subheader(\"Country-wise Sales Analysis\")\n",
    "        top_country_sales = filtered_df.groupby(\"Country\")[[\"Sales_Amount\", \"Boxes_Shipped\"]].sum().sort_values(by=\"Sales_Amount\", ascending=False).reset_index()\n",
    "        st.dataframe(top_country_sales, width=450)\n",
    "        st.markdown(\"<br><br>\", unsafe_allow_html=True)\n",
    "        st.plotly_chart(px.bar(top_country_sales, x=\"Country\", y=\"Sales_Amount\", title=\"Total Sales by Country\", color=\"Country\", color_discrete_sequence=color_palette,height =550), use_container_width=True)\n",
    "    with col2:\n",
    "        top_country_boxes = filtered_df.groupby(\"Country\")[[\"Sales_Amount\", \"Boxes_Shipped\"]].sum().sort_values(by=\"Boxes_Shipped\", ascending=False).reset_index()\n",
    "        st.plotly_chart(px.pie(top_country_boxes, names=\"Country\", values=\"Boxes_Shipped\", title=\"Boxes Shipped by Country\", color_discrete_sequence=color_palette), use_container_width=True)\n",
    "        st.plotly_chart(px.box(filtered_df, x=\"Country\", y=\"Boxes_Shipped\", title=\"Boxes Shipped Distribution by Country\", color_discrete_sequence=color_palette), use_container_width=True)\n",
    "\n",
    "# Correlation Analysis\n",
    "with tab6:\n",
    "    st.subheader(\"Correlation Matrix\")\n",
    "    correlation_matrix = filtered_df[[\"Sales_Amount\", \"Boxes_Shipped\", \"Quarter\"]].select_dtypes(include=['number']).corr().round(2)\n",
    "    fig = px.imshow(correlation_matrix, text_auto=True, title=\"Feature Correlation Heatmap\", color_continuous_scale=color_palette, width=800, height=800)\n",
    "    fig.update_layout(xaxis_title_font=dict(size=16), yaxis_title_font=dict(size=16), title_font=dict(size=20))\n",
    "    st.plotly_chart(fig, use_container_width=True)"
   ]
  },
  {
   "cell_type": "code",
   "execution_count": null,
   "metadata": {},
   "outputs": [],
   "source": [
    "! streamlit run Chocolate_Sales_dashboard.py"
   ]
  },
  {
   "cell_type": "code",
   "execution_count": null,
   "metadata": {},
   "outputs": [],
   "source": []
  }
 ],
 "metadata": {
  "colab": {
   "provenance": []
  },
  "kernelspec": {
   "display_name": "Python 3",
   "language": "python",
   "name": "python3"
  },
  "language_info": {
   "codemirror_mode": {
    "name": "ipython",
    "version": 3
   },
   "file_extension": ".py",
   "mimetype": "text/x-python",
   "name": "python",
   "nbconvert_exporter": "python",
   "pygments_lexer": "ipython3",
   "version": "3.7.6"
  }
 },
 "nbformat": 4,
 "nbformat_minor": 1
}
